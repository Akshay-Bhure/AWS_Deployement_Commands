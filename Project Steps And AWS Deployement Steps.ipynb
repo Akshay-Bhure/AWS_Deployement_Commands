{
 "cells": [
  {
   "cell_type": "markdown",
   "id": "735a14dd",
   "metadata": {},
   "source": [
    "# Project Steps"
   ]
  },
  {
   "cell_type": "code",
   "execution_count": null,
   "id": "1035275e",
   "metadata": {},
   "outputs": [],
   "source": [
    "AWS – Day 1\n",
    "\n",
    "ML Project Workflow\n",
    "1.\tProblem Statement\n",
    "2.\tData Gathering\n",
    "3.\tEDA\n",
    "4.\tFeature engineering\n",
    "5.\tFeature selection\n",
    "6.\tModel Training\n",
    "7.\tModel evaluation\n",
    "8.\tDeployment - a. Cloud / Instance creation - Using EC2 service\n",
    "                          b. Python and dependencies - Required files and libraries\n",
    "                          c. App configuration - Running app/main/interface files\n",
    "\n",
    "Available Cloud Platforms\n",
    "AWS – Amazon Web Services\n",
    "GCP – Google Cloud Platform\n",
    "Azure – Microsoft Azure"
   ]
  },
  {
   "cell_type": "markdown",
   "id": "d1c3978e",
   "metadata": {},
   "source": [
    "# AWS Deployment Steps \n"
   ]
  },
  {
   "cell_type": "markdown",
   "id": "947e542a",
   "metadata": {},
   "source": [
    "## Initiate empty git folder\n"
   ]
  },
  {
   "cell_type": "raw",
   "id": "39085074",
   "metadata": {},
   "source": [
    "Open the project folder : \n",
    "    Open in terminal/GitBash here\n",
    "    git init >> it simply means in our project folder invisible folder created\n",
    "    git status\n",
    "    git add .  (You can add individual files with commit)\n",
    "    git commit -m \"Added all files\"Open the github account : \n",
    "    Create new repository\n",
    "    Copy the link createdOpen the terminal : \n",
    "    git remote add origin (paste your link)\n",
    "    git branch -M main\n",
    "    git push origin main\n",
    "    Type your github username\n",
    "    Type your Personal Access Token (PAT)\n",
    "    Refresh your git repository (All the files will be pushed on your github repo)    "
   ]
  },
  {
   "cell_type": "markdown",
   "id": "8c4c2035",
   "metadata": {},
   "source": [
    "## # Personal Access Token\n"
   ]
  },
  {
   "cell_type": "raw",
   "id": "5e9cdb8b",
   "metadata": {},
   "source": [
    "Steps to create PAT:\n",
    "    Login to your Github account\n",
    "    Click on your profile\n",
    "    Setings\n",
    "    Developer Settings\n",
    "    Personal Access Token\n",
    "    Generate new token\n",
    "    Select expiration date (Copy your PAT and save fr future reference)   "
   ]
  },
  {
   "cell_type": "markdown",
   "id": "0b7544f4",
   "metadata": {},
   "source": [
    "## AWS Account Creation\n"
   ]
  },
  {
   "cell_type": "raw",
   "id": "5a15916d",
   "metadata": {},
   "source": [
    "AWS Account Creation:\n",
    "    Search AWS\n",
    "    Click on the first link\n",
    "    Create new account\n",
    "    Enter your email id\n",
    "    Create username\n",
    "    Click on next\n",
    "    Enter the verification code sent on your email id and verufy your account\n",
    "    Next\n",
    "    Choose password\n",
    "    Fill the details\n",
    "    Enter your mobile number and address\n",
    "    Next\n",
    "    Enter the credit card number\n",
    "    Expiration month and year\n",
    "    CVV\n",
    "    Cardholder name\n",
    "    Billing address\n",
    "    PAN number\n",
    "    Next\n",
    "    Enter the otp sent on creadit card cardholder number\n",
    "    Once it is verified you will be able to login in the AWS account"
   ]
  },
  {
   "cell_type": "markdown",
   "id": "562bf87c",
   "metadata": {},
   "source": [
    "## AWS Instance Creation\n"
   ]
  },
  {
   "cell_type": "raw",
   "id": "87f8f0ee",
   "metadata": {},
   "source": [
    "AWS Instance:\n",
    "    Login on AWS account through signin to the console\n",
    "    Search for ec2 in search bar\n",
    "    Launch Instance\n",
    "    Name of the instance\n",
    "    Select the OS (Ubuntu 22.04 with free tier eligible)\n",
    "    Select instance type (t2.micro with free tier eligible)\n",
    "    Create new key pair (Name the key pair and download it. Save the key pair in project folder)\n",
    "    Network Security Group (Edit-- Add new security group rule-- type-All Traffic-- Source Type-Anywhere)\n",
    "    Storage (1*8 -- Free tier has 30 GiB memory)\n",
    "    Launch Instance"
   ]
  },
  {
   "cell_type": "markdown",
   "id": "993958bd",
   "metadata": {},
   "source": [
    "##  Connect Instance and Deployment\n"
   ]
  },
  {
   "cell_type": "raw",
   "id": "71c99ae8",
   "metadata": {},
   "source": [
    "Select instance:\n",
    "    Connect\n",
    "    Connect with SSH Client\n",
    "    Open terminal\n",
    "    cd key (the folder or directory where you have stored the key)\n",
    "    ls >> it shows the location\n",
    "    Copy the step 3 and paste\n",
    "    Copy the step 4 and paste\n",
    "    yes\n",
    "You will switch on private ip address:\n",
    "    python3  -- exit()\n",
    "    sudo apt-get update  (To get updates)\n",
    "    sudo apt-get install python3-pip (to install pip) ---> Y\n",
    "    pip --version\n",
    "    git --version\n",
    "Open the github repo --- Click on code --- Copy the https link\n",
    "\n",
    "Open the terminal:\n",
    "    git clone (Paste the https link)\n",
    "    cd (Github repo name)\n",
    "    ls\n",
    "    pip3 install -r requirements.txt\n",
    "    python3 app.py\n",
    "    Copy the public IPv4 DNS and paste in the browser:Port number\n",
    "    Ctrl+C >> when we press Ctrl+C then we disconnect connection of gitbash terminal with instance (we do not use this command we can use this command only for checking whether we disconnect with instance or not)\n",
    "    nohup python3 app.py >> this command we use bcz suppose our laptop sudden switch off or power gone or anything so that time in backend our all data will be stoared"
   ]
  },
  {
   "cell_type": "code",
   "execution_count": null,
   "id": "6f406918",
   "metadata": {},
   "outputs": [],
   "source": []
  }
 ],
 "metadata": {
  "kernelspec": {
   "display_name": "Python 3 (ipykernel)",
   "language": "python",
   "name": "python3"
  },
  "language_info": {
   "codemirror_mode": {
    "name": "ipython",
    "version": 3
   },
   "file_extension": ".py",
   "mimetype": "text/x-python",
   "name": "python",
   "nbconvert_exporter": "python",
   "pygments_lexer": "ipython3",
   "version": "3.9.12"
  }
 },
 "nbformat": 4,
 "nbformat_minor": 5
}
